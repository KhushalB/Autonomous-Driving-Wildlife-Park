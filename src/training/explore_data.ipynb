{
 "cells": [
  {
   "cell_type": "code",
   "execution_count": 1,
   "metadata": {},
   "outputs": [],
   "source": [
    "import cv2\n",
    "import matplotlib.pyplot as plt\n",
    "import numpy as np\n",
    "import pandas as pd\n",
    "import seaborn as sns"
   ]
  },
  {
   "cell_type": "code",
   "execution_count": 2,
   "metadata": {},
   "outputs": [],
   "source": [
    "%matplotlib qt"
   ]
  },
  {
   "cell_type": "code",
   "execution_count": 2,
   "metadata": {},
   "outputs": [],
   "source": [
    "dataset_file = \"/home/khushal/PycharmProjects/Autonomous-Driving-Wildlife-Park/data/datasets/day2kakamega-pt2.csv\"\n",
    "df_dataset = pd.read_csv(dataset_file)"
   ]
  },
  {
   "cell_type": "code",
   "execution_count": null,
   "metadata": {},
   "outputs": [],
   "source": [
    "df_dataset.head()"
   ]
  },
  {
   "cell_type": "code",
   "execution_count": 119,
   "metadata": {
    "scrolled": true
   },
   "outputs": [
    {
     "data": {
      "text/plain": [
       "<matplotlib.axes._subplots.AxesSubplot at 0x7f8c22bea790>"
      ]
     },
     "execution_count": 119,
     "metadata": {},
     "output_type": "execute_result"
    }
   ],
   "source": [
    "# Visualize steering angle count distribution\n",
    "sns.countplot(x=\"steer_angle\", data=df_dataset)"
   ]
  },
  {
   "cell_type": "code",
   "execution_count": null,
   "metadata": {},
   "outputs": [],
   "source": [
    "# Visualize steering angle vs speed distribution\n",
    "# sns.boxplot(x=\"steer_angle\", y=\"speed\", data=df_dataset)\n",
    "sns.boxenplot(x=\"steer_angle\", y=\"speed\", data=df_dataset)"
   ]
  },
  {
   "cell_type": "code",
   "execution_count": 10,
   "metadata": {},
   "outputs": [],
   "source": [
    "# Scroll through image data with steering angle and speed labels\n",
    "index = 0\n",
    "cv2.namedWindow(\"data\")\n",
    "while True:\n",
    "    img = cv2.imread(df_dataset[\"image\"][index])\n",
    "    img = cv2.resize(img, (0, 0), fx=6, fy=6, interpolation=cv2.INTER_CUBIC)\n",
    "    str_angle = df_dataset[\"steer_angle\"][index]\n",
    "    speed = df_dataset[\"speed\"][index]\n",
    "    cv2.putText(img, \"Steering angle: {0}\".format(str_angle), (10, 25), cv2.FONT_HERSHEY_SIMPLEX, 1, (0, 255, 0), 2)\n",
    "    cv2.putText(img, \"Speed: {0}\".format(speed), (10, 75), cv2.FONT_HERSHEY_SIMPLEX, 1, (0, 255, 0), 2)\n",
    "    cv2.imshow(\"data\", img)\n",
    "    key = cv2.waitKey(100)\n",
    "\n",
    "    if key == ord(\"m\"):\n",
    "        index += 1\n",
    "    elif key == ord(\"n\"):\n",
    "        index -= 1\n",
    "    elif key == 27 or key == ord(\"q\"):  # escape key or q\n",
    "        break\n",
    "cv2.destroyAllWindows()"
   ]
  },
  {
   "cell_type": "code",
   "execution_count": 40,
   "metadata": {},
   "outputs": [],
   "source": [
    "img = cv2.imread(df_dataset['image'][415])\n",
    "img = cv2.resize(img, (0,0), fx=6, fy=6, interpolation = cv2.INTER_CUBIC)\n",
    "br_img = cv2.cvtColor(img, cv2.COLOR_BGR2HSV)\n",
    "br_img[:,:,2] = br_img[:,:,2]*0.25\n",
    "br_img = cv2.cvtColor(br_img, cv2.COLOR_HSV2BGR)\n",
    "\n",
    "joined = np.concatenate((img, br_img), axis=0)"
   ]
  },
  {
   "cell_type": "code",
   "execution_count": 60,
   "metadata": {},
   "outputs": [],
   "source": [
    "width = 200 * 6\n",
    "height = 66 * 6\n",
    "\n",
    "x1, y1 = width * np.random.rand(), 0\n",
    "x2, y2 = width * np.random.rand(), height\n",
    "xm, ym = np.mgrid[0:height, 0:width]\n",
    "\n",
    "mask = np.zeros_like(img[:, :, 1])\n",
    "mask[(ym - y1) * (x2 - x1) - (y2 - y1) * (xm - x1) > 0] = 1\n",
    "cond = mask == np.random.randint(2)\n",
    "s_ratio = np.random.uniform(low=0.2, high=0.5)\n",
    "hls = cv2.cvtColor(img, cv2.COLOR_BGR2HLS)\n",
    "hls[:, :, 1][cond] = hls[:, :, 1][cond] * s_ratio\n",
    "sha_img = cv2.cvtColor(hls, cv2.COLOR_HLS2BGR)\n",
    "\n",
    "shadowed = np.concatenate((img, sha_img), axis=0)"
   ]
  },
  {
   "cell_type": "code",
   "execution_count": 61,
   "metadata": {},
   "outputs": [],
   "source": [
    "while True:\n",
    "    cv2.imshow('ad', shadowed)\n",
    "    key = cv2.waitKey(1000)\n",
    "    \n",
    "    if key == ord('q'):\n",
    "        break\n",
    "cv2.destroyAllWindows()"
   ]
  },
  {
   "cell_type": "code",
   "execution_count": null,
   "metadata": {},
   "outputs": [],
   "source": []
  }
 ],
 "metadata": {
  "kernelspec": {
   "display_name": "Python 3",
   "language": "python",
   "name": "python3"
  },
  "language_info": {
   "codemirror_mode": {
    "name": "ipython",
    "version": 3
   },
   "file_extension": ".py",
   "mimetype": "text/x-python",
   "name": "python",
   "nbconvert_exporter": "python",
   "pygments_lexer": "ipython3",
   "version": "3.7.6"
  }
 },
 "nbformat": 4,
 "nbformat_minor": 4
}
